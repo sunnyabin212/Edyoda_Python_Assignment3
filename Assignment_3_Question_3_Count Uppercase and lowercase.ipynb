{
 "cells": [
  {
   "cell_type": "code",
   "execution_count": 3,
   "id": "f225ec36",
   "metadata": {},
   "outputs": [
    {
     "name": "stdout",
     "output_type": "stream",
     "text": [
      "number of uppercase characters : 3\n",
      "number of lowercase characters : 12\n"
     ]
    }
   ],
   "source": [
    "def string(s):\n",
    "    d={\"UPPER_CASE\":0, \"lower_case\":0}\n",
    "    for c in s:\n",
    "        if c.isupper():\n",
    "            d[\"UPPER_CASE\"]+=1\n",
    "        elif c.islower():\n",
    "            d[\"lower_case\"]+=1\n",
    "        else:\n",
    "            pass\n",
    "    print(\"number of uppercase characters :\", d[\"UPPER_CASE\"])  \n",
    "    print(\"number of lowercase characters :\", d[\"lower_case\"])\n",
    "string('The quick Brow Fox')    "
   ]
  }
 ],
 "metadata": {
  "kernelspec": {
   "display_name": "Python 3",
   "language": "python",
   "name": "python3"
  },
  "language_info": {
   "codemirror_mode": {
    "name": "ipython",
    "version": 3
   },
   "file_extension": ".py",
   "mimetype": "text/x-python",
   "name": "python",
   "nbconvert_exporter": "python",
   "pygments_lexer": "ipython3",
   "version": "3.8.8"
  }
 },
 "nbformat": 4,
 "nbformat_minor": 5
}
