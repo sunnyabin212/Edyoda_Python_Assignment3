{
 "cells": [
  {
   "cell_type": "code",
   "execution_count": 2,
   "id": "2a4d2f0f",
   "metadata": {},
   "outputs": [
    {
     "name": "stdout",
     "output_type": "stream",
     "text": [
      "dcba4321\n"
     ]
    }
   ],
   "source": [
    "x =  \"1234abcd\"\n",
    "y = x[::-1]\n",
    "print(y)"
   ]
  },
  {
   "cell_type": "code",
   "execution_count": 7,
   "id": "6b492bcb",
   "metadata": {},
   "outputs": [
    {
     "name": "stdout",
     "output_type": "stream",
     "text": [
      "the reversed string is :dcba4321\n"
     ]
    }
   ],
   "source": [
    "def reverse(s):\n",
    "   str = \"\"\n",
    "   for i in s:\n",
    "       str = i + str\n",
    "   return  str \n",
    "\n",
    "s = \"1234abcd\"\n",
    "\n",
    "print(\"the reversed string is :\",end=\"\")\n",
    "print(reverse(s))"
   ]
  }
 ],
 "metadata": {
  "kernelspec": {
   "display_name": "Python 3",
   "language": "python",
   "name": "python3"
  },
  "language_info": {
   "codemirror_mode": {
    "name": "ipython",
    "version": 3
   },
   "file_extension": ".py",
   "mimetype": "text/x-python",
   "name": "python",
   "nbconvert_exporter": "python",
   "pygments_lexer": "ipython3",
   "version": "3.8.8"
  }
 },
 "nbformat": 4,
 "nbformat_minor": 5
}
